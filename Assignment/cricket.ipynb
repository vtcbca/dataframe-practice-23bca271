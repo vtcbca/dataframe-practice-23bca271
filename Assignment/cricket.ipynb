{
 "cells": [
  {
   "cell_type": "markdown",
   "id": "45bcd9b2-dcef-40d7-8194-630f601983b6",
   "metadata": {},
   "source": [
    "### p3_Q1 Create csv file cricketer(cid, cname, country, match, run) using reader writer object and insert 15 players records."
   ]
  },
  {
   "cell_type": "code",
   "execution_count": null,
   "id": "c1eed10e-1aef-4f7c-b979-734f7c979e1e",
   "metadata": {},
   "outputs": [],
   "source": [
    "import csv"
   ]
  },
  {
   "cell_type": "code",
   "execution_count": 4,
   "id": "7d9c028a-d02e-48df-bea6-612ac2a0fc7a",
   "metadata": {},
   "outputs": [],
   "source": [
    "cid=[]\n",
    "cname=[]\n",
    "country=[]\n",
    "match=[]\n",
    "run=[]\n",
    "cricinfo=[]"
   ]
  },
  {
   "cell_type": "code",
   "execution_count": 7,
   "id": "4053529b-71e5-45f6-958d-cd2d3f7b550c",
   "metadata": {},
   "outputs": [
    {
     "name": "stdin",
     "output_type": "stream",
     "text": [
      "enter cricketer id: 01\n",
      "enter cricketer name: virat\n",
      "enter cricketer country: india\n",
      "enter cricketer match: 200\n",
      "enter cricketer run: 5000\n",
      "enter cricketer id: 02\n",
      "enter cricketer name: hardik\n",
      "enter cricketer country: india\n",
      "enter cricketer match: 150\n",
      "enter cricketer run: 4000\n",
      "enter cricketer id: 03\n",
      "enter cricketer name: dhoni\n",
      "enter cricketer country: india\n",
      "enter cricketer match: 6000\n",
      "enter cricketer run: 70000\n",
      "enter cricketer id: 04\n",
      "enter cricketer name: shubhman\n",
      "enter cricketer country: india\n",
      "enter cricketer match: 300\n",
      "enter cricketer run: 5000\n",
      "enter cricketer id: 05\n",
      "enter cricketer name: jasprit\n",
      "enter cricketer country: india\n",
      "enter cricketer match: 150\n",
      "enter cricketer run: 1000\n",
      "enter cricketer id: 06\n",
      "enter cricketer name: surya\n",
      "enter cricketer country: india\n",
      "enter cricketer match: 250\n",
      "enter cricketer run: 2000\n",
      "enter cricketer id: 07\n",
      "enter cricketer name: shreyas\n",
      "enter cricketer country: india\n",
      "enter cricketer match: 300\n",
      "enter cricketer run: 3000\n",
      "enter cricketer id: 08\n",
      "enter cricketer name: siraj\n",
      "enter cricketer country: india\n",
      "enter cricketer match: 350\n",
      "enter cricketer run: 3500\n",
      "enter cricketer id: 09\n",
      "enter cricketer name: rohit\n",
      "enter cricketer country: 400\n",
      "enter cricketer match: 400\n",
      "enter cricketer run: 4000\n",
      "enter cricketer id: 10\n",
      "enter cricketer name: ashwin\n",
      "enter cricketer country: india\n",
      "enter cricketer match: 130\n",
      "enter cricketer run: 1300\n",
      "enter cricketer id: 11\n",
      "enter cricketer name: kuldeep\n",
      "enter cricketer country: india\n",
      "enter cricketer match: 230\n",
      "enter cricketer run: 2300\n",
      "enter cricketer id: 12\n",
      "enter cricketer name: prasid\n",
      "enter cricketer country: india\n",
      "enter cricketer match: 120\n",
      "enter cricketer run: 1200\n",
      "enter cricketer id: 13\n",
      "enter cricketer name: shami\n",
      "enter cricketer country: india\n",
      "enter cricketer match: 200\n",
      "enter cricketer run: 2000\n",
      "enter cricketer id: 14\n",
      "enter cricketer name: ravindra\n",
      "enter cricketer country: india\n",
      "enter cricketer match: 200\n",
      "enter cricketer run: 4000\n",
      "enter cricketer id: 15\n",
      "enter cricketer name: ishan\n",
      "enter cricketer country: india\n",
      "enter cricketer match: 180\n",
      "enter cricketer run: 2000\n"
     ]
    }
   ],
   "source": [
    "for i in range(15):\n",
    "    cid=int(input(\"enter cricketer id:\"))\n",
    "    cname=(input(\"enter cricketer name:\"))\n",
    "    country=(input(\"enter cricketer country:\"))\n",
    "    match=int(input(\"enter cricketer match:\"))\n",
    "    run=int(input(\"enter cricketer run:\"))\n",
    "    cricinfo.append([cid,cname,country,match,run])"
   ]
  },
  {
   "cell_type": "code",
   "execution_count": 14,
   "id": "5c05dc43-cf66-4d23-b76e-99e1e2feefd5",
   "metadata": {},
   "outputs": [],
   "source": [
    "with open(\"C:/23bca271/python/cricket.csv\",\"w\")as cric:\n",
    "    cric=csv.writer(cric)\n",
    "    cric.writerow(cricinfo)"
   ]
  },
  {
   "cell_type": "code",
   "execution_count": 15,
   "id": "92aab9a7-887e-49cd-85f8-a6a3c204a13e",
   "metadata": {},
   "outputs": [
    {
     "name": "stdout",
     "output_type": "stream",
     "text": [
      "[\"[1, 'virat', 'india', 200, 5000]\", \"[2, 'hardik', 'india', 150, 4000]\", \"[3, 'dhoni', 'india', 6000, 70000]\", \"[4, 'shubhman', 'india', 300, 5000]\", \"[5, 'jasprit', 'india', 150, 1000]\", \"[6, 'surya', 'india', 250, 2000]\", \"[7, 'shreyas', 'india', 300, 3000]\", \"[8, 'siraj', 'india', 350, 3500]\", \"[9, 'rohit', '400', 400, 4000]\", \"[10, 'ashwin', 'india', 130, 1300]\", \"[11, 'kuldeep', 'india', 230, 2300]\", \"[12, 'prasid', 'india', 120, 1200]\", \"[13, 'shami', 'india', 200, 2000]\", \"[14, 'ravindra', 'india', 200, 4000]\", \"[15, 'ishan', 'india', 180, 2000]\"]\n",
      "[]\n"
     ]
    }
   ],
   "source": [
    "with open(\"C:/23bca271/python/cricket.csv\",\"r\")as cric:\n",
    "    cric_read=csv.reader(cric)\n",
    "    for row in cric_read:\n",
    "        print(row)"
   ]
  },
  {
   "cell_type": "code",
   "execution_count": null,
   "id": "2c8fb6ed-fca2-402c-ac87-f8c58960bb35",
   "metadata": {},
   "outputs": [],
   "source": [
    "import pandas as p"
   ]
  }
 ],
 "metadata": {
  "kernelspec": {
   "display_name": "Python 3 (ipykernel)",
   "language": "python",
   "name": "python3"
  },
  "language_info": {
   "codemirror_mode": {
    "name": "ipython",
    "version": 3
   },
   "file_extension": ".py",
   "mimetype": "text/x-python",
   "name": "python",
   "nbconvert_exporter": "python",
   "pygments_lexer": "ipython3",
   "version": "3.9.6"
  }
 },
 "nbformat": 4,
 "nbformat_minor": 5
}
